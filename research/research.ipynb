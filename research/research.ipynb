{
 "cells": [
  {
   "cell_type": "markdown",
   "id": "50001d61",
   "metadata": {},
   "source": [
    "## Explanation is for Config Box"
   ]
  },
  {
   "cell_type": "code",
   "execution_count": 7,
   "id": "304a7f8c",
   "metadata": {},
   "outputs": [
    {
     "ename": "AttributeError",
     "evalue": "'dict' object has no attribute 'key1'",
     "output_type": "error",
     "traceback": [
      "\u001b[1;31m---------------------------------------------------------------------------\u001b[0m",
      "\u001b[1;31mAttributeError\u001b[0m                            Traceback (most recent call last)",
      "Cell \u001b[1;32mIn[7], line 2\u001b[0m\n\u001b[0;32m      1\u001b[0m example_1 \u001b[38;5;241m=\u001b[39m {\u001b[38;5;124m\"\u001b[39m\u001b[38;5;124mkey1\u001b[39m\u001b[38;5;124m\"\u001b[39m:\u001b[38;5;124m\"\u001b[39m\u001b[38;5;124mvalue1\u001b[39m\u001b[38;5;124m\"\u001b[39m,\u001b[38;5;124m\"\u001b[39m\u001b[38;5;124mkey2\u001b[39m\u001b[38;5;124m\"\u001b[39m:\u001b[38;5;124m\"\u001b[39m\u001b[38;5;124m\"\u001b[39m}\n\u001b[1;32m----> 2\u001b[0m \u001b[43mexample_1\u001b[49m\u001b[38;5;241;43m.\u001b[39;49m\u001b[43mkey1\u001b[49m\n",
      "\u001b[1;31mAttributeError\u001b[0m: 'dict' object has no attribute 'key1'"
     ]
    }
   ],
   "source": [
    "example_1 = {\"key1\":\"value1\",\"key2\":\"\"}\n",
    "example_1.key1"
   ]
  },
  {
   "cell_type": "code",
   "execution_count": 11,
   "id": "080d2e2b",
   "metadata": {},
   "outputs": [
    {
     "data": {
      "text/plain": [
       "'value1'"
      ]
     },
     "execution_count": 11,
     "metadata": {},
     "output_type": "execute_result"
    }
   ],
   "source": [
    "example_1[\"key1\"]"
   ]
  },
  {
   "cell_type": "code",
   "execution_count": 5,
   "id": "5fa9d723",
   "metadata": {},
   "outputs": [
    {
     "data": {
      "text/plain": [
       "'value1'"
      ]
     },
     "execution_count": 5,
     "metadata": {},
     "output_type": "execute_result"
    }
   ],
   "source": [
    "from box import ConfigBox\n",
    "example = ConfigBox({\"key1\":\"value1\",\"key2\":\"\"})\n",
    "example.key1"
   ]
  },
  {
   "cell_type": "markdown",
   "id": "231f1e9b",
   "metadata": {},
   "source": [
    "## Explanation is for ensure annotation"
   ]
  },
  {
   "cell_type": "code",
   "execution_count": null,
   "id": "10b8d537",
   "metadata": {},
   "outputs": [],
   "source": [
    "\n",
    "def get_product(x: int, y:int)-> int:\n",
    "    return x*y"
   ]
  },
  {
   "cell_type": "code",
   "execution_count": 13,
   "id": "abb54a85",
   "metadata": {},
   "outputs": [
    {
     "data": {
      "text/plain": [
       "4"
      ]
     },
     "execution_count": 13,
     "metadata": {},
     "output_type": "execute_result"
    }
   ],
   "source": [
    "get_product(2,2)"
   ]
  },
  {
   "cell_type": "code",
   "execution_count": 14,
   "id": "50f47a96",
   "metadata": {},
   "outputs": [
    {
     "data": {
      "text/plain": [
       "'22'"
      ]
     },
     "execution_count": 14,
     "metadata": {},
     "output_type": "execute_result"
    }
   ],
   "source": [
    "get_product(2,\"2\")"
   ]
  },
  {
   "cell_type": "code",
   "execution_count": 15,
   "id": "11b0bdf2",
   "metadata": {},
   "outputs": [],
   "source": [
    "from ensure import ensure_annotations\n",
    "@ensure_annotations\n",
    "def get_product_1(x: int, y:int)-> int:\n",
    "    return x*y"
   ]
  },
  {
   "cell_type": "code",
   "execution_count": 16,
   "id": "42392400",
   "metadata": {},
   "outputs": [
    {
     "ename": "EnsureError",
     "evalue": "Argument y of type <class 'str'> to <function get_product_1 at 0x00000180726CB010> does not match annotation type <class 'int'>",
     "output_type": "error",
     "traceback": [
      "\u001b[1;31m---------------------------------------------------------------------------\u001b[0m",
      "\u001b[1;31mEnsureError\u001b[0m                               Traceback (most recent call last)",
      "Cell \u001b[1;32mIn[16], line 1\u001b[0m\n\u001b[1;32m----> 1\u001b[0m \u001b[43mget_product_1\u001b[49m\u001b[43m(\u001b[49m\u001b[38;5;241;43m2\u001b[39;49m\u001b[43m,\u001b[49m\u001b[38;5;124;43m\"\u001b[39;49m\u001b[38;5;124;43m4\u001b[39;49m\u001b[38;5;124;43m\"\u001b[39;49m\u001b[43m)\u001b[49m\n",
      "File \u001b[1;32md:\\Learning\\Udemy ML_Ops Krish\\MLOPS\\datascienceproject\\venv\\lib\\site-packages\\ensure\\main.py:870\u001b[0m, in \u001b[0;36mWrappedFunctionReturn.__call__\u001b[1;34m(self, *args, **kwargs)\u001b[0m\n\u001b[0;32m    868\u001b[0m     \u001b[38;5;28;01mif\u001b[39;00m \u001b[38;5;129;01mnot\u001b[39;00m \u001b[38;5;28misinstance\u001b[39m(value, templ):\n\u001b[0;32m    869\u001b[0m         msg \u001b[38;5;241m=\u001b[39m \u001b[38;5;124m\"\u001b[39m\u001b[38;5;124mArgument \u001b[39m\u001b[38;5;132;01m{arg}\u001b[39;00m\u001b[38;5;124m of type \u001b[39m\u001b[38;5;132;01m{valt}\u001b[39;00m\u001b[38;5;124m to \u001b[39m\u001b[38;5;132;01m{f}\u001b[39;00m\u001b[38;5;124m \u001b[39m\u001b[38;5;124m\"\u001b[39m \u001b[38;5;124m\"\u001b[39m\u001b[38;5;124mdoes not match annotation type \u001b[39m\u001b[38;5;132;01m{t}\u001b[39;00m\u001b[38;5;124m\"\u001b[39m\n\u001b[1;32m--> 870\u001b[0m         \u001b[38;5;28;01mraise\u001b[39;00m EnsureError(msg\u001b[38;5;241m.\u001b[39mformat(arg\u001b[38;5;241m=\u001b[39marg, f\u001b[38;5;241m=\u001b[39m\u001b[38;5;28mself\u001b[39m\u001b[38;5;241m.\u001b[39mf, t\u001b[38;5;241m=\u001b[39mtempl, valt\u001b[38;5;241m=\u001b[39m\u001b[38;5;28mtype\u001b[39m(value)))\n\u001b[0;32m    872\u001b[0m return_val \u001b[38;5;241m=\u001b[39m \u001b[38;5;28mself\u001b[39m\u001b[38;5;241m.\u001b[39mf(\u001b[38;5;241m*\u001b[39margs, \u001b[38;5;241m*\u001b[39m\u001b[38;5;241m*\u001b[39mkwargs)\n\u001b[0;32m    873\u001b[0m \u001b[38;5;28;01mif\u001b[39;00m \u001b[38;5;129;01mnot\u001b[39;00m \u001b[38;5;28misinstance\u001b[39m(return_val, \u001b[38;5;28mself\u001b[39m\u001b[38;5;241m.\u001b[39mreturn_templ):\n",
      "\u001b[1;31mEnsureError\u001b[0m: Argument y of type <class 'str'> to <function get_product_1 at 0x00000180726CB010> does not match annotation type <class 'int'>"
     ]
    }
   ],
   "source": [
    "get_product_1(2,\"4\")"
   ]
  },
  {
   "cell_type": "code",
   "execution_count": null,
   "id": "4db31ac3",
   "metadata": {},
   "outputs": [],
   "source": []
  }
 ],
 "metadata": {
  "kernelspec": {
   "display_name": "Python 3",
   "language": "python",
   "name": "python3"
  },
  "language_info": {
   "codemirror_mode": {
    "name": "ipython",
    "version": 3
   },
   "file_extension": ".py",
   "mimetype": "text/x-python",
   "name": "python",
   "nbconvert_exporter": "python",
   "pygments_lexer": "ipython3",
   "version": "3.10.0"
  }
 },
 "nbformat": 4,
 "nbformat_minor": 5
}
